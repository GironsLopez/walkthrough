{
 "cells": [
  {
   "cell_type": "markdown",
   "metadata": {},
   "source": [
    "# Discharge estimation: salt injection method\n",
    "Simple code to understand how to estimate discharge using the salt injection method\n",
    "\n",
    "*Marc Girons Lopez*  \n",
    "*2016-09-21*"
   ]
  },
  {
   "cell_type": "code",
   "execution_count": 215,
   "metadata": {
    "collapsed": true
   },
   "outputs": [],
   "source": [
    "import pandas as pd\n",
    "import numpy as np\n",
    "from scipy import stats\n",
    "import matplotlib.pyplot as plt\n",
    "%matplotlib inline"
   ]
  },
  {
   "cell_type": "markdown",
   "metadata": {},
   "source": [
    "## Overview\n",
    "The idea is to estimate the discharge by using a tracer (i.e. salt solution). The tracer is injected in the stream and the conductivity (i.e. a proxy for concentration) is measured through time. The resulting discharge (Q) is thereafter calculated by:\n",
    "\n",
    "## $Q = \\frac{V_{salt}}{\\beta(\\gamma-\\gamma_{bg})dt}$\n",
    "\n",
    "In order to determine the relationship between concentration and conductivity a simple calibration needs to be done."
   ]
  },
  {
   "cell_type": "markdown",
   "metadata": {},
   "source": [
    "## Calibration\n",
    "\n",
    "Get a known volume of streamwater in two buckets. The first bucket will be used to create the salt solution (tracer) while the second will be used to perform the calibration."
   ]
  },
  {
   "cell_type": "code",
   "execution_count": 216,
   "metadata": {
    "collapsed": false
   },
   "outputs": [],
   "source": [
    "vol_ss = 15  # Volume salt solution, litres\n",
    "vol_cal = 10  # Volume calibration, litres"
   ]
  },
  {
   "cell_type": "markdown",
   "metadata": {},
   "source": [
    "Afterwards we measure the **background conductivity** in one of the buckets:"
   ]
  },
  {
   "cell_type": "code",
   "execution_count": 217,
   "metadata": {
    "collapsed": true
   },
   "outputs": [],
   "source": [
    "cond_bg = 25.5  # Background conductivity, micro Siemens per cm"
   ]
  },
  {
   "cell_type": "markdown",
   "metadata": {},
   "source": [
    "Then we proceed to the actual calibration. First we add a certain amount of salt in one of the buckets and stir to dissolve it. We have our salt solution (tracer). Thereafter we add small amounts of the tracer to the bucket with streamwater and measure the conductivity increases.\n",
    "\n",
    "The first point corresponds to the streamwater before adding any volume of salt solution. The following points are obtained by adding a small volume of salt solution to the known volume of straemwater and subsequently measuring the conductivity. Four points is usually enough."
   ]
  },
  {
   "cell_type": "code",
   "execution_count": 218,
   "metadata": {
    "collapsed": false
   },
   "outputs": [],
   "source": [
    "vol_ss_cal = 0.5  # Salt solution volume to add, ml\n",
    "steps = 3  # number of steps in the calibration\n",
    "\n",
    "# start the arrays\n",
    "conc = np.zeros(steps)  # Salt solution concentration, ml/l\n",
    "cond = np.zeros(steps)  # Conductivity\n",
    "\n",
    "# actual conductivity measurements\n",
    "measurements = [cond_bg, 32.2, 38.8]\n",
    "\n",
    "# perform the calibration\n",
    "for step in range(steps):\n",
    "    cond[step] = measurements[step]\n",
    "    if step == 0:\n",
    "        conc[step] = 0.00\n",
    "    else:\n",
    "        # calibration\n",
    "        conc[step] = conc[step-1] + (vol_ss_cal / vol_cal)\n",
    "        # update de volumes\n",
    "        vol_ss -= vol_ss_cal\n",
    "        vol_cal += vol_ss_cal\n",
    "\n",
    "# calculate the conductivity difference\n",
    "cond_diff = cond - cond_bg"
   ]
  },
  {
   "cell_type": "code",
   "execution_count": 219,
   "metadata": {
    "collapsed": false
   },
   "outputs": [
    {
     "data": {
      "text/plain": [
       "<matplotlib.text.Text at 0xc0dee0dc50>"
      ]
     },
     "execution_count": 219,
     "metadata": {},
     "output_type": "execute_result"
    },
    {
     "data": {
      "image/png": "[encoded data removed]",
      "text/plain": [
       "<matplotlib.figure.Figure at 0xc0ded0eb70>"
      ]
     },
     "metadata": {},
     "output_type": "display_data"
    }
   ],
   "source": [
    "# plot the calibration steps\n",
    "plt.scatter(cond_diff, conc)\n",
    "plt.xlim(0, 15)\n",
    "plt.ylim(0, 0.10)\n",
    "plt.xlabel('Salt solution concentration')\n",
    "plt.ylabel(r'Relative conductivity')"
   ]
  },
  {
   "cell_type": "markdown",
   "metadata": {},
   "source": [
    "Perform a linear regression to find the relationship between concentration and conductivity"
   ]
  },
  {
   "cell_type": "code",
   "execution_count": 220,
   "metadata": {
    "collapsed": false
   },
   "outputs": [
    {
     "name": "stdout",
     "output_type": "stream",
     "text": [
      "y = 0.0073400883682x + 0.000272426751661\n",
      "R2 = 0.999905138691\n"
     ]
    }
   ],
   "source": [
    "slope, intercept, r_value, p_value, std_err = stats.linregress(cond_diff, conc) \n",
    "\n",
    "print('y = ' + str(slope) + 'x + ' + str(intercept))\n",
    "print('R2 = ' + str(r_value**2))"
   ]
  },
  {
   "cell_type": "markdown",
   "metadata": {},
   "source": [
    "## Measurement\n",
    "\n",
    "Inject the known volume of salt solution to the stream and measure the conductivity through time:"
   ]
  },
  {
   "cell_type": "code",
   "execution_count": 221,
   "metadata": {
    "collapsed": false
   },
   "outputs": [],
   "source": [
    "time = pd.Series([0, 5, 10, 15, 20, 25, 30, 35, 40,\n",
    "                   45, 50, 55, 60, 65, 70, 75, 80,\n",
    "                   85, 90, 95, 100, 105, 110, 115,\n",
    "                   120, 125, 130, 135, 140, 145, 150,\n",
    "                   155, 160, 190, 220, 250, 280, 420],\n",
    "                  name='Time (s)')\n",
    "\n",
    "cond = pd.Series([25.5, 27, 30, 32, 34.5, 37,\n",
    "                  38, 39, 38, 37.5, 36, 35,\n",
    "                  34, 33, 32.5, 32, 31.7, 31.5,\n",
    "                  30.5, 30, 29.5, 29, 28.7,\n",
    "                  28.5, 28.2, 28, 27.8, 27.7,\n",
    "                  27.6, 27.5, 27.2, 27.1, 27,\n",
    "                  26.5, 26.2, 26, 26, 25.5],\n",
    "                  index=time, name='Conductivity')"
   ]
  },
  {
   "cell_type": "markdown",
   "metadata": {},
   "source": [
    "Calculate the relative conductivity respect to the background value"
   ]
  },
  {
   "cell_type": "code",
   "execution_count": 222,
   "metadata": {
    "collapsed": false
   },
   "outputs": [],
   "source": [
    "cond_diff = cond - cond_bg"
   ]
  },
  {
   "cell_type": "code",
   "execution_count": 223,
   "metadata": {
    "collapsed": false
   },
   "outputs": [
    {
     "data": {
      "text/plain": [
       "<matplotlib.text.Text at 0xc0dee6fe48>"
      ]
     },
     "execution_count": 223,
     "metadata": {},
     "output_type": "execute_result"
    },
    {
     "data": {
      "image/png": "[encoded data removed]",
      "text/plain": [
       "<matplotlib.figure.Figure at 0xc0dee20fd0>"
      ]
     },
     "metadata": {},
     "output_type": "display_data"
    }
   ],
   "source": [
    "# plot the conductivity difference against time\n",
    "plt.plot(time, cond_diff)\n",
    "plt.scatter(time, cond_diff, marker='x')\n",
    "plt.xlim(0, 450)\n",
    "plt.ylim(0, 14)\n",
    "plt.xlabel('Time (s)')\n",
    "plt.ylabel('Conductivity difference')"
   ]
  },
  {
   "cell_type": "markdown",
   "metadata": {},
   "source": [
    "## Calculation\n",
    "\n",
    "The first step is to calculate the area under the curve:"
   ]
  },
  {
   "cell_type": "code",
   "execution_count": 224,
   "metadata": {
    "collapsed": false
   },
   "outputs": [],
   "source": [
    "area = np.trapz(cond_diff, x=time)"
   ]
  },
  {
   "cell_type": "markdown",
   "metadata": {},
   "source": [
    "Then we need use the results from the calibration to convert from conductivity units to concentration units."
   ]
  },
  {
   "cell_type": "code",
   "execution_count": 225,
   "metadata": {
    "collapsed": false
   },
   "outputs": [],
   "source": [
    "area2 = area * slope + intercept"
   ]
  },
  {
   "cell_type": "markdown",
   "metadata": {},
   "source": [
    "Finally, we divide the injected salt solution (in ml) by the result of the conversion:"
   ]
  },
  {
   "cell_type": "code",
   "execution_count": 228,
   "metadata": {
    "collapsed": false
   },
   "outputs": [
    {
     "name": "stdout",
     "output_type": "stream",
     "text": [
      "Q = 1795.49761882 l/s\n"
     ]
    }
   ],
   "source": [
    "Q = (vol_ss * 1000) / area2\n",
    "\n",
    "print('Q = ' + str(Q) + ' l/s')"
   ]
  }
 ],
 "metadata": {
  "anaconda-cloud": {},
  "kernelspec": {
   "display_name": "Python [Root]",
   "language": "python",
   "name": "Python [Root]"
  },
  "language_info": {
   "codemirror_mode": {
    "name": "ipython",
    "version": 3
   },
   "file_extension": ".py",
   "mimetype": "text/x-python",
   "name": "python",
   "nbconvert_exporter": "python",
   "pygments_lexer": "ipython3",
   "version": "3.5.2"
  }
 },
 "nbformat": 4,
 "nbformat_minor": 0
}
